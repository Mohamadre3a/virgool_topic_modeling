{
 "cells": [
  {
   "cell_type": "markdown",
   "metadata": {},
   "source": [
    "## merge\n",
    "mergin dataframes together and labeling them in order to calculate accuracy"
   ]
  },
  {
   "cell_type": "code",
   "execution_count": 90,
   "metadata": {},
   "outputs": [],
   "source": [
    "import pandas as pd \n",
    "import numpy as np"
   ]
  },
  {
   "cell_type": "code",
   "execution_count": 91,
   "metadata": {},
   "outputs": [],
   "source": [
    "data1 = pd.read_csv('virgool/1.csv')\n",
    "data2 = pd.read_csv('virgool/2.csv')\n",
    "data3 = pd.read_csv('virgool/3.csv')\n",
    "data4 = pd.read_csv('virgool/4.csv')"
   ]
  },
  {
   "cell_type": "code",
   "execution_count": 92,
   "metadata": {},
   "outputs": [],
   "source": [
    "data1['label']=1\n",
    "data2['label']=2\n",
    "data3['label']=3\n",
    "data4['label']=4"
   ]
  },
  {
   "cell_type": "code",
   "execution_count": 93,
   "metadata": {},
   "outputs": [],
   "source": [
    "data = pd.concat([data1,data2,data3,data4])"
   ]
  },
  {
   "cell_type": "code",
   "execution_count": 94,
   "metadata": {},
   "outputs": [
    {
     "data": {
      "text/html": [
       "<div>\n",
       "<style scoped>\n",
       "    .dataframe tbody tr th:only-of-type {\n",
       "        vertical-align: middle;\n",
       "    }\n",
       "\n",
       "    .dataframe tbody tr th {\n",
       "        vertical-align: top;\n",
       "    }\n",
       "\n",
       "    .dataframe thead th {\n",
       "        text-align: right;\n",
       "    }\n",
       "</style>\n",
       "<table border=\"1\" class=\"dataframe\">\n",
       "  <thead>\n",
       "    <tr style=\"text-align: right;\">\n",
       "      <th></th>\n",
       "      <th>title</th>\n",
       "      <th>content</th>\n",
       "      <th>label</th>\n",
       "    </tr>\n",
       "  </thead>\n",
       "  <tbody>\n",
       "    <tr>\n",
       "      <th>0</th>\n",
       "      <td>بالاخره اتریوم چطور کار می‌کند؟ (بخش ۲ - حساب،...</td>\n",
       "      <td>برنامه‌نویس بلاکچین   حالت حساب، صرفنظر از نوع...</td>\n",
       "      <td>1</td>\n",
       "    </tr>\n",
       "    <tr>\n",
       "      <th>1</th>\n",
       "      <td>داده‌ها، رصد و مسابقات تسلیحاتی هوش مصنوعی</td>\n",
       "      <td>رسانه‌های جهانی، نمیخواهند  توجه شما به برخی ا...</td>\n",
       "      <td>1</td>\n",
       "    </tr>\n",
       "    <tr>\n",
       "      <th>2</th>\n",
       "      <td>موتور پیشنهاد دهنده بهجو به بازار عرضه شد.</td>\n",
       "      <td>مهندس نرم افزار و استادیار دانشگاه بعد از ارائ...</td>\n",
       "      <td>1</td>\n",
       "    </tr>\n",
       "    <tr>\n",
       "      <th>3</th>\n",
       "      <td>محاسبهٔ ثابت‌های ریاضی در ‪C++‬</td>\n",
       "      <td>برنامه‌نویس سیستم / سی، سی‌پلاس‌پلاس / لینوکس ...</td>\n",
       "      <td>1</td>\n",
       "    </tr>\n",
       "    <tr>\n",
       "      <th>4</th>\n",
       "      <td>فراخوانی تابع batch_normalization در Tensorflo...</td>\n",
       "      <td>یکی از تکنیک های افزایش سرعت train و بهبود دقت...</td>\n",
       "      <td>1</td>\n",
       "    </tr>\n",
       "  </tbody>\n",
       "</table>\n",
       "</div>"
      ],
      "text/plain": [
       "                                               title  \\\n",
       "0  بالاخره اتریوم چطور کار می‌کند؟ (بخش ۲ - حساب،...   \n",
       "1         داده‌ها، رصد و مسابقات تسلیحاتی هوش مصنوعی   \n",
       "2         موتور پیشنهاد دهنده بهجو به بازار عرضه شد.   \n",
       "3                    محاسبهٔ ثابت‌های ریاضی در ‪C++‬   \n",
       "4  فراخوانی تابع batch_normalization در Tensorflo...   \n",
       "\n",
       "                                             content  label  \n",
       "0  برنامه‌نویس بلاکچین   حالت حساب، صرفنظر از نوع...      1  \n",
       "1  رسانه‌های جهانی، نمیخواهند  توجه شما به برخی ا...      1  \n",
       "2  مهندس نرم افزار و استادیار دانشگاه بعد از ارائ...      1  \n",
       "3  برنامه‌نویس سیستم / سی، سی‌پلاس‌پلاس / لینوکس ...      1  \n",
       "4  یکی از تکنیک های افزایش سرعت train و بهبود دقت...      1  "
      ]
     },
     "execution_count": 94,
     "metadata": {},
     "output_type": "execute_result"
    }
   ],
   "source": [
    "data.head()"
   ]
  },
  {
   "cell_type": "markdown",
   "metadata": {},
   "source": [
    "## cleaning\n",
    "clean data from punctuations"
   ]
  },
  {
   "cell_type": "code",
   "execution_count": 95,
   "metadata": {},
   "outputs": [
    {
     "data": {
      "text/html": [
       "<div>\n",
       "<style scoped>\n",
       "    .dataframe tbody tr th:only-of-type {\n",
       "        vertical-align: middle;\n",
       "    }\n",
       "\n",
       "    .dataframe tbody tr th {\n",
       "        vertical-align: top;\n",
       "    }\n",
       "\n",
       "    .dataframe thead th {\n",
       "        text-align: right;\n",
       "    }\n",
       "</style>\n",
       "<table border=\"1\" class=\"dataframe\">\n",
       "  <thead>\n",
       "    <tr style=\"text-align: right;\">\n",
       "      <th></th>\n",
       "      <th>title</th>\n",
       "      <th>content</th>\n",
       "      <th>label</th>\n",
       "    </tr>\n",
       "  </thead>\n",
       "  <tbody>\n",
       "    <tr>\n",
       "      <th>0</th>\n",
       "      <td>بالاخره اتریوم چطور کار می‌کند؟ بخش ۲ - حساب، ...</td>\n",
       "      <td>برنامه‌نویس بلاکچین   حالت حساب، صرفنظر از نوع...</td>\n",
       "      <td>1</td>\n",
       "    </tr>\n",
       "    <tr>\n",
       "      <th>1</th>\n",
       "      <td>داده‌ها، رصد و مسابقات تسلیحاتی هوش مصنوعی</td>\n",
       "      <td>رسانه‌های جهانی، نمیخواهند  توجه شما به برخی ا...</td>\n",
       "      <td>1</td>\n",
       "    </tr>\n",
       "    <tr>\n",
       "      <th>2</th>\n",
       "      <td>موتور پیشنهاد دهنده بهجو به بازار عرضه شد</td>\n",
       "      <td>مهندس نرم افزار و استادیار دانشگاه بعد از ارائ...</td>\n",
       "      <td>1</td>\n",
       "    </tr>\n",
       "    <tr>\n",
       "      <th>3</th>\n",
       "      <td>محاسبهٔ ثابت‌های ریاضی در ‪C++‬</td>\n",
       "      <td>برنامه‌نویس سیستم  سی، سی‌پلاس‌پلاس  لینوکس هی...</td>\n",
       "      <td>1</td>\n",
       "    </tr>\n",
       "    <tr>\n",
       "      <th>4</th>\n",
       "      <td>فراخوانی تابع batch_normalization در Tensorflo...</td>\n",
       "      <td>یکی از تکنیک های افزایش سرعت train و بهبود دقت...</td>\n",
       "      <td>1</td>\n",
       "    </tr>\n",
       "  </tbody>\n",
       "</table>\n",
       "</div>"
      ],
      "text/plain": [
       "                                               title  \\\n",
       "0  بالاخره اتریوم چطور کار می‌کند؟ بخش ۲ - حساب، ...   \n",
       "1         داده‌ها، رصد و مسابقات تسلیحاتی هوش مصنوعی   \n",
       "2          موتور پیشنهاد دهنده بهجو به بازار عرضه شد   \n",
       "3                    محاسبهٔ ثابت‌های ریاضی در ‪C++‬   \n",
       "4  فراخوانی تابع batch_normalization در Tensorflo...   \n",
       "\n",
       "                                             content  label  \n",
       "0  برنامه‌نویس بلاکچین   حالت حساب، صرفنظر از نوع...      1  \n",
       "1  رسانه‌های جهانی، نمیخواهند  توجه شما به برخی ا...      1  \n",
       "2  مهندس نرم افزار و استادیار دانشگاه بعد از ارائ...      1  \n",
       "3  برنامه‌نویس سیستم  سی، سی‌پلاس‌پلاس  لینوکس هی...      1  \n",
       "4  یکی از تکنیک های افزایش سرعت train و بهبود دقت...      1  "
      ]
     },
     "execution_count": 95,
     "metadata": {},
     "output_type": "execute_result"
    }
   ],
   "source": [
    "import re\n",
    "data['content'] = data['content'].map(lambda x: re.sub('[,\\/().!?]', '', x))\n",
    "data['title'] = data['title'].map(lambda x: re.sub('[,\\/().!?]', '', x))\n",
    "data.head()"
   ]
  },
  {
   "cell_type": "markdown",
   "metadata": {},
   "source": [
    "## count_vectorizer\n",
    "count and see which words are more common"
   ]
  },
  {
   "cell_type": "code",
   "execution_count": 96,
   "metadata": {},
   "outputs": [],
   "source": [
    "from sklearn.feature_extraction.text import CountVectorizer\n"
   ]
  },
  {
   "cell_type": "code",
   "execution_count": 97,
   "metadata": {},
   "outputs": [],
   "source": [
    "import matplotlib.pyplot as plt\n",
    "import seaborn as sns\n",
    "sns.set_style('whitegrid')\n",
    "%matplotlib inline\n",
    "def top_20_words(count_data, count_vectorizer):\n",
    "    import matplotlib.pyplot as plt\n",
    "    words = count_vectorizer.get_feature_names()\n",
    "    total_counts = np.zeros(len(words))\n",
    "    for t in count_data:\n",
    "        total_counts+=t.toarray()[0]\n",
    "    \n",
    "    count_dict = (zip(words, total_counts))\n",
    "    count_dict = sorted(count_dict, key=lambda x:x[1], reverse=True)[0:20]\n",
    "    return count_dict"
   ]
  },
  {
   "cell_type": "code",
   "execution_count": 98,
   "metadata": {},
   "outputs": [
    {
     "data": {
      "text/plain": [
       "[('می', 5984.0),\n",
       " ('است', 3783.0),\n",
       " ('های', 3040.0),\n",
       " ('برای', 2450.0),\n",
       " ('ها', 2129.0),\n",
       " ('آن', 1957.0),\n",
       " ('یک', 1946.0),\n",
       " ('هم', 1389.0),\n",
       " ('شود', 1247.0),\n",
       " ('یا', 1231.0),\n",
       " ('تا', 1193.0),\n",
       " ('رو', 1134.0),\n",
       " ('خود', 1126.0),\n",
       " ('شده', 1092.0),\n",
       " ('هر', 1027.0),\n",
       " ('کند', 935.0),\n",
       " ('بود', 905.0),\n",
       " ('ما', 876.0),\n",
       " ('من', 876.0),\n",
       " ('اما', 844.0)]"
      ]
     },
     "execution_count": 98,
     "metadata": {},
     "output_type": "execute_result"
    }
   ],
   "source": [
    "count_vectorizer = CountVectorizer(max_df=.9,min_df=2)\n",
    "# Fit and transform the processed titles\n",
    "count_data = count_vectorizer.fit_transform(data['content'])\n",
    "# Visualise the 10 most common words\n",
    "top_20_words(count_data, count_vectorizer)"
   ]
  },
  {
   "cell_type": "markdown",
   "metadata": {},
   "source": [
    "## remove stopwords\n",
    "as you can see we forgot stopwords :) "
   ]
  },
  {
   "cell_type": "code",
   "execution_count": 99,
   "metadata": {},
   "outputs": [],
   "source": [
    "from __future__ import unicode_literals\n",
    "from hazm import *\n",
    "\n",
    "# import stop words from file\n",
    "with open('PersianStopWords.txt') as f:\n",
    "    stops = f.readlines()\n",
    "stops = [x.strip() for x in stops] \n",
    "\n",
    "# a tribiute to Yasser\n",
    "data['nonstops'] = data['content'].apply(lambda x: ' '.join([word for word in word_tokenize(x) if word not in stops]))"
   ]
  },
  {
   "cell_type": "code",
   "execution_count": 100,
   "metadata": {},
   "outputs": [
    {
     "data": {
      "text/html": [
       "<div>\n",
       "<style scoped>\n",
       "    .dataframe tbody tr th:only-of-type {\n",
       "        vertical-align: middle;\n",
       "    }\n",
       "\n",
       "    .dataframe tbody tr th {\n",
       "        vertical-align: top;\n",
       "    }\n",
       "\n",
       "    .dataframe thead th {\n",
       "        text-align: right;\n",
       "    }\n",
       "</style>\n",
       "<table border=\"1\" class=\"dataframe\">\n",
       "  <thead>\n",
       "    <tr style=\"text-align: right;\">\n",
       "      <th></th>\n",
       "      <th>title</th>\n",
       "      <th>content</th>\n",
       "      <th>label</th>\n",
       "      <th>nonstops</th>\n",
       "    </tr>\n",
       "  </thead>\n",
       "  <tbody>\n",
       "    <tr>\n",
       "      <th>0</th>\n",
       "      <td>بالاخره اتریوم چطور کار می‌کند؟ بخش ۲ - حساب، ...</td>\n",
       "      <td>برنامه‌نویس بلاکچین   حالت حساب، صرفنظر از نوع...</td>\n",
       "      <td>1</td>\n",
       "      <td>برنامه‌نویس بلاکچین حالت حساب صرفنظر حساب جزء ...</td>\n",
       "    </tr>\n",
       "    <tr>\n",
       "      <th>1</th>\n",
       "      <td>داده‌ها، رصد و مسابقات تسلیحاتی هوش مصنوعی</td>\n",
       "      <td>رسانه‌های جهانی، نمیخواهند  توجه شما به برخی ا...</td>\n",
       "      <td>1</td>\n",
       "      <td>رسانه‌های جهانی نمیخواهند توجه اخبار خاص دنیای...</td>\n",
       "    </tr>\n",
       "    <tr>\n",
       "      <th>2</th>\n",
       "      <td>موتور پیشنهاد دهنده بهجو به بازار عرضه شد</td>\n",
       "      <td>مهندس نرم افزار و استادیار دانشگاه بعد از ارائ...</td>\n",
       "      <td>1</td>\n",
       "      <td>مهندس نرم افزار استادیار دانشگاه ارائه موفق با...</td>\n",
       "    </tr>\n",
       "    <tr>\n",
       "      <th>3</th>\n",
       "      <td>محاسبهٔ ثابت‌های ریاضی در ‪C++‬</td>\n",
       "      <td>برنامه‌نویس سیستم  سی، سی‌پلاس‌پلاس  لینوکس هی...</td>\n",
       "      <td>1</td>\n",
       "      <td>برنامه‌نویس سیستم سی سی‌پلاس‌پلاس لینوکس هیچ‌ک...</td>\n",
       "    </tr>\n",
       "    <tr>\n",
       "      <th>4</th>\n",
       "      <td>فراخوانی تابع batch_normalization در Tensorflo...</td>\n",
       "      <td>یکی از تکنیک های افزایش سرعت train و بهبود دقت...</td>\n",
       "      <td>1</td>\n",
       "      <td>تکنیک افزایش سرعت train بهبود دقت شبکه CNN لای...</td>\n",
       "    </tr>\n",
       "  </tbody>\n",
       "</table>\n",
       "</div>"
      ],
      "text/plain": [
       "                                               title  \\\n",
       "0  بالاخره اتریوم چطور کار می‌کند؟ بخش ۲ - حساب، ...   \n",
       "1         داده‌ها، رصد و مسابقات تسلیحاتی هوش مصنوعی   \n",
       "2          موتور پیشنهاد دهنده بهجو به بازار عرضه شد   \n",
       "3                    محاسبهٔ ثابت‌های ریاضی در ‪C++‬   \n",
       "4  فراخوانی تابع batch_normalization در Tensorflo...   \n",
       "\n",
       "                                             content  label  \\\n",
       "0  برنامه‌نویس بلاکچین   حالت حساب، صرفنظر از نوع...      1   \n",
       "1  رسانه‌های جهانی، نمیخواهند  توجه شما به برخی ا...      1   \n",
       "2  مهندس نرم افزار و استادیار دانشگاه بعد از ارائ...      1   \n",
       "3  برنامه‌نویس سیستم  سی، سی‌پلاس‌پلاس  لینوکس هی...      1   \n",
       "4  یکی از تکنیک های افزایش سرعت train و بهبود دقت...      1   \n",
       "\n",
       "                                            nonstops  \n",
       "0  برنامه‌نویس بلاکچین حالت حساب صرفنظر حساب جزء ...  \n",
       "1  رسانه‌های جهانی نمیخواهند توجه اخبار خاص دنیای...  \n",
       "2  مهندس نرم افزار استادیار دانشگاه ارائه موفق با...  \n",
       "3  برنامه‌نویس سیستم سی سی‌پلاس‌پلاس لینوکس هیچ‌ک...  \n",
       "4  تکنیک افزایش سرعت train بهبود دقت شبکه CNN لای...  "
      ]
     },
     "execution_count": 100,
     "metadata": {},
     "output_type": "execute_result"
    }
   ],
   "source": [
    "data.head()"
   ]
  },
  {
   "cell_type": "code",
   "execution_count": 101,
   "metadata": {},
   "outputs": [
    {
     "data": {
      "text/plain": [
       "[('می', 2178.0),\n",
       " ('های', 1364.0),\n",
       " ('ها', 1015.0),\n",
       " ('سال', 656.0),\n",
       " ('کار', 613.0),\n",
       " ('نویسنده', 440.0),\n",
       " ('زندگی', 431.0),\n",
       " ('نظر', 414.0),\n",
       " ('قرار', 404.0),\n",
       " ('دست', 402.0),\n",
       " ('افراد', 381.0),\n",
       " ('ای', 361.0),\n",
       " ('زبان', 357.0),\n",
       " ('کتاب', 351.0),\n",
       " ('یه', 348.0),\n",
       " ('قیمت', 339.0),\n",
       " ('ایران', 338.0),\n",
       " ('دانشگاه', 333.0),\n",
       " ('سرمایه', 333.0),\n",
       " ('برنامه', 325.0)]"
      ]
     },
     "execution_count": 101,
     "metadata": {},
     "output_type": "execute_result"
    }
   ],
   "source": [
    "count_vectorizer = CountVectorizer(max_df=.9,min_df=2)\n",
    "# Fit and transform the processed titles\n",
    "count_data = count_vectorizer.fit_transform(data['nonstops'])\n",
    "# Visualise the 10 most common words\n",
    "top_20_words(count_data, count_vectorizer)"
   ]
  },
  {
   "cell_type": "markdown",
   "metadata": {},
   "source": [
    "## LDA itself"
   ]
  },
  {
   "cell_type": "code",
   "execution_count": 102,
   "metadata": {},
   "outputs": [],
   "source": [
    "from sklearn.decomposition import LatentDirichletAllocation\n",
    "lda = LatentDirichletAllocation(n_components=4,random_state=42)\n"
   ]
  },
  {
   "cell_type": "code",
   "execution_count": 103,
   "metadata": {},
   "outputs": [
    {
     "data": {
      "text/plain": [
       "LatentDirichletAllocation(batch_size=128, doc_topic_prior=None,\n",
       "             evaluate_every=-1, learning_decay=0.7,\n",
       "             learning_method='batch', learning_offset=10.0,\n",
       "             max_doc_update_iter=100, max_iter=10, mean_change_tol=0.001,\n",
       "             n_components=4, n_jobs=None, n_topics=None, perp_tol=0.1,\n",
       "             random_state=42, topic_word_prior=None,\n",
       "             total_samples=1000000.0, verbose=0)"
      ]
     },
     "execution_count": 103,
     "metadata": {},
     "output_type": "execute_result"
    }
   ],
   "source": [
    "lda.fit(count_data)"
   ]
  },
  {
   "cell_type": "code",
   "execution_count": 104,
   "metadata": {},
   "outputs": [
    {
     "name": "stdout",
     "output_type": "stream",
     "text": [
      "top 20 words for topic  0\n",
      "['جامعه', 'الشعر', 'کریم', 'می', 'عزیز', 'زندگی', 'ماه', 'ال', 'قرار', 'نماز', 'امام', 'الله', 'قرآن', 'کتاب', 'روزه', 'خداوند', 'نویسنده', 'دین', 'انسان', 'خدا']\n",
      "top 20 words for topic  1\n",
      "['قرار', 'الله', 'اضطراب', 'کار', 'نویسنده', 'وسواس', 'اختلال', 'افسردگی', 'جنسی', 'باعث', 'درمان', 'مي', 'فرد', 'های', 'دست', 'ها', 'احساس', 'زندگی', 'افراد', 'می']\n",
      "top 20 words for topic  2\n",
      "['دانشگاه', 'سازی', 'بررسی', 'حل', 'توان', 'قیمت', 'مدل', 'افزایش', 'هوش', 'دلار', 'تولید', 'کشور', 'نظر', 'ایران', 'ماشین', 'یادگیری', 'الگوریتم', 'برنامه', 'کار', 'سال']\n",
      "top 20 words for topic  3\n",
      "['نظر', 'بانک', 'شرکت', 'آموزش', 'بازار', 'گذاری', 'دانشگاه', 'به', 'کند', 'قیمت', 'شبکه', 'یه', 'زبان', 'ای', 'سال', 'کار', 'سرمایه', 'ها', 'های', 'می']\n"
     ]
    }
   ],
   "source": [
    "for inx,topic in enumerate(lda.components_):\n",
    "    print('top 20 words for topic ',str(inx))\n",
    "    print([count_vectorizer.get_feature_names()[index] for index in topic.argsort()[-20:]])"
   ]
  },
  {
   "cell_type": "code",
   "execution_count": 105,
   "metadata": {},
   "outputs": [],
   "source": [
    "result = lda.transform(count_data)"
   ]
  },
  {
   "cell_type": "code",
   "execution_count": 106,
   "metadata": {},
   "outputs": [],
   "source": [
    "data['result'] = result.argmax(axis=1)"
   ]
  },
  {
   "cell_type": "code",
   "execution_count": 107,
   "metadata": {},
   "outputs": [
    {
     "data": {
      "text/html": [
       "<div>\n",
       "<style scoped>\n",
       "    .dataframe tbody tr th:only-of-type {\n",
       "        vertical-align: middle;\n",
       "    }\n",
       "\n",
       "    .dataframe tbody tr th {\n",
       "        vertical-align: top;\n",
       "    }\n",
       "\n",
       "    .dataframe thead th {\n",
       "        text-align: right;\n",
       "    }\n",
       "</style>\n",
       "<table border=\"1\" class=\"dataframe\">\n",
       "  <thead>\n",
       "    <tr style=\"text-align: right;\">\n",
       "      <th></th>\n",
       "      <th>title</th>\n",
       "      <th>content</th>\n",
       "      <th>label</th>\n",
       "      <th>nonstops</th>\n",
       "      <th>result</th>\n",
       "    </tr>\n",
       "  </thead>\n",
       "  <tbody>\n",
       "    <tr>\n",
       "      <th>0</th>\n",
       "      <td>بالاخره اتریوم چطور کار می‌کند؟ بخش ۲ - حساب، ...</td>\n",
       "      <td>برنامه‌نویس بلاکچین   حالت حساب، صرفنظر از نوع...</td>\n",
       "      <td>1</td>\n",
       "      <td>برنامه‌نویس بلاکچین حالت حساب صرفنظر حساب جزء ...</td>\n",
       "      <td>3</td>\n",
       "    </tr>\n",
       "    <tr>\n",
       "      <th>1</th>\n",
       "      <td>داده‌ها، رصد و مسابقات تسلیحاتی هوش مصنوعی</td>\n",
       "      <td>رسانه‌های جهانی، نمیخواهند  توجه شما به برخی ا...</td>\n",
       "      <td>1</td>\n",
       "      <td>رسانه‌های جهانی نمیخواهند توجه اخبار خاص دنیای...</td>\n",
       "      <td>3</td>\n",
       "    </tr>\n",
       "    <tr>\n",
       "      <th>2</th>\n",
       "      <td>موتور پیشنهاد دهنده بهجو به بازار عرضه شد</td>\n",
       "      <td>مهندس نرم افزار و استادیار دانشگاه بعد از ارائ...</td>\n",
       "      <td>1</td>\n",
       "      <td>مهندس نرم افزار استادیار دانشگاه ارائه موفق با...</td>\n",
       "      <td>2</td>\n",
       "    </tr>\n",
       "    <tr>\n",
       "      <th>3</th>\n",
       "      <td>محاسبهٔ ثابت‌های ریاضی در ‪C++‬</td>\n",
       "      <td>برنامه‌نویس سیستم  سی، سی‌پلاس‌پلاس  لینوکس هی...</td>\n",
       "      <td>1</td>\n",
       "      <td>برنامه‌نویس سیستم سی سی‌پلاس‌پلاس لینوکس هیچ‌ک...</td>\n",
       "      <td>3</td>\n",
       "    </tr>\n",
       "    <tr>\n",
       "      <th>4</th>\n",
       "      <td>فراخوانی تابع batch_normalization در Tensorflo...</td>\n",
       "      <td>یکی از تکنیک های افزایش سرعت train و بهبود دقت...</td>\n",
       "      <td>1</td>\n",
       "      <td>تکنیک افزایش سرعت train بهبود دقت شبکه CNN لای...</td>\n",
       "      <td>3</td>\n",
       "    </tr>\n",
       "  </tbody>\n",
       "</table>\n",
       "</div>"
      ],
      "text/plain": [
       "                                               title  \\\n",
       "0  بالاخره اتریوم چطور کار می‌کند؟ بخش ۲ - حساب، ...   \n",
       "1         داده‌ها، رصد و مسابقات تسلیحاتی هوش مصنوعی   \n",
       "2          موتور پیشنهاد دهنده بهجو به بازار عرضه شد   \n",
       "3                    محاسبهٔ ثابت‌های ریاضی در ‪C++‬   \n",
       "4  فراخوانی تابع batch_normalization در Tensorflo...   \n",
       "\n",
       "                                             content  label  \\\n",
       "0  برنامه‌نویس بلاکچین   حالت حساب، صرفنظر از نوع...      1   \n",
       "1  رسانه‌های جهانی، نمیخواهند  توجه شما به برخی ا...      1   \n",
       "2  مهندس نرم افزار و استادیار دانشگاه بعد از ارائ...      1   \n",
       "3  برنامه‌نویس سیستم  سی، سی‌پلاس‌پلاس  لینوکس هی...      1   \n",
       "4  یکی از تکنیک های افزایش سرعت train و بهبود دقت...      1   \n",
       "\n",
       "                                            nonstops  result  \n",
       "0  برنامه‌نویس بلاکچین حالت حساب صرفنظر حساب جزء ...       3  \n",
       "1  رسانه‌های جهانی نمیخواهند توجه اخبار خاص دنیای...       3  \n",
       "2  مهندس نرم افزار استادیار دانشگاه ارائه موفق با...       2  \n",
       "3  برنامه‌نویس سیستم سی سی‌پلاس‌پلاس لینوکس هیچ‌ک...       3  \n",
       "4  تکنیک افزایش سرعت train بهبود دقت شبکه CNN لای...       3  "
      ]
     },
     "execution_count": 107,
     "metadata": {},
     "output_type": "execute_result"
    }
   ],
   "source": [
    "data.head()"
   ]
  },
  {
   "cell_type": "code",
   "execution_count": 117,
   "metadata": {},
   "outputs": [
    {
     "name": "stdout",
     "output_type": "stream",
     "text": [
      "accuracy of topic 1 recognition : 0.3225806451612903\n",
      "accuracy of topic 2 recognition : 0.5625\n",
      "accuracy of topic 3 recognition : 0.5\n",
      "accuracy of topic 4 recognition : 0.25\n"
     ]
    }
   ],
   "source": [
    "print('accuracy of topic 1 recognition :', str(data[(data.label == 1) & (data.result == 1)].shape[0]\n",
    "                                               /data[(data.label == 1)].shape[0]))\n",
    "print('accuracy of topic 2 recognition :', str(data[(data.label == 2) & (data.result == 3)].shape[0]\n",
    "                                               /data[(data.label == 2)].shape[0]))\n",
    "print('accuracy of topic 3 recognition :', str(data[(data.label == 3) & (data.result == 0)].shape[0]\n",
    "                                               /data[(data.label == 3)].shape[0]))\n",
    "print('accuracy of topic 4 recognition :', str(data[(data.label == 4) & (data.result == 2)].shape[0]\n",
    "                                               /data[(data.label == 4)].shape[0]))"
   ]
  }
 ],
 "metadata": {
  "kernelspec": {
   "display_name": "Python 3",
   "language": "python",
   "name": "python3"
  },
  "language_info": {
   "codemirror_mode": {
    "name": "ipython",
    "version": 3
   },
   "file_extension": ".py",
   "mimetype": "text/x-python",
   "name": "python",
   "nbconvert_exporter": "python",
   "pygments_lexer": "ipython3",
   "version": "3.7.2"
  }
 },
 "nbformat": 4,
 "nbformat_minor": 2
}
